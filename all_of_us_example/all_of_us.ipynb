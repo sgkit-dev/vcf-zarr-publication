{
 "cells": [
  {
   "cell_type": "code",
   "execution_count": 1,
   "id": "3f98f759",
   "metadata": {},
   "outputs": [],
   "source": [
    "from bio2zarr.vcf2zarr import vcz\n",
    "import numpy as np\n",
    "import humanfriendly\n",
    "import os\n",
    "import sys\n",
    "from pathlib import Path\n",
    "import pandas"
   ]
  },
  {
   "cell_type": "markdown",
   "id": "1b6923eb",
   "metadata": {},
   "source": [
    "## Data sources"
   ]
  },
  {
   "cell_type": "code",
   "execution_count": 1,
   "id": "2bcf839b",
   "metadata": {},
   "outputs": [],
   "source": [
    "VCF_FILE= \"exome.chr20.vcf.bgz\"\n",
    "BCF_FILE= \"exome.chr20.bcf\"\n",
    "ZARR_DIR2= \"exome.chr20_all3.vcz\"\n",
    "ICF_DIR= \"chr20.icf\""
   ]
  },
  {
   "cell_type": "markdown",
   "id": "b0bd6e70",
   "metadata": {},
   "source": [
    "## VCF size and partitions"
   ]
  },
  {
   "cell_type": "code",
   "execution_count": 3,
   "id": "a204de54",
   "metadata": {},
   "outputs": [
    {
     "name": "stdout",
     "output_type": "stream",
     "text": [
      "Total compressed VCF: 7.44 GiB\n"
     ]
    }
   ],
   "source": [
    "print(f\"Total compressed VCF: {humanfriendly.format_size(os.path.getsize(VCF_FILE), binary=True)}\")"
   ]
  },
  {
   "cell_type": "markdown",
   "id": "dd4f637f",
   "metadata": {},
   "source": [
    "## Inspect Zarr and ICF"
   ]
  },
  {
   "cell_type": "code",
   "execution_count": 4,
   "id": "aa2917a3",
   "metadata": {},
   "outputs": [
    {
     "name": "stdout",
     "output_type": "stream",
     "text": [
      "CPU times: user 1.7 s, sys: 1.99 s, total: 3.7 s\n",
      "Wall time: 3.72 s\n"
     ]
    }
   ],
   "source": [
    "%%time\n",
    "zarr_vcf_inspec = vcz.inspect(ZARR_DIR2)"
   ]
  },
  {
   "cell_type": "code",
   "execution_count": 5,
   "id": "53df73fc",
   "metadata": {},
   "outputs": [],
   "source": [
    "zarr_df = pandas.DataFrame(zarr_vcf_inspec)"
   ]
  },
  {
   "cell_type": "code",
   "execution_count": 6,
   "id": "d27d66dd",
   "metadata": {},
   "outputs": [],
   "source": [
    "zarr_df.to_csv(\"zarr_inspect2.csv\", index=False)"
   ]
  },
  {
   "cell_type": "code",
   "execution_count": 7,
   "id": "2a206852",
   "metadata": {},
   "outputs": [
    {
     "name": "stdout",
     "output_type": "stream",
     "text": [
      "CPU times: user 700 ms, sys: 167 ms, total: 867 ms\n",
      "Wall time: 1.27 s\n"
     ]
    }
   ],
   "source": [
    "%%time\n",
    "icf_inspec = vcz.inspect(ICF_DIR)"
   ]
  },
  {
   "cell_type": "code",
   "execution_count": 8,
   "id": "bf42567a",
   "metadata": {},
   "outputs": [],
   "source": [
    "icf_df = pandas.DataFrame(icf_inspec)"
   ]
  },
  {
   "cell_type": "code",
   "execution_count": 9,
   "id": "70b51408",
   "metadata": {},
   "outputs": [],
   "source": [
    "icf_df.to_csv(\"icf_inspect.csv\", index=False)"
   ]
  },
  {
   "cell_type": "markdown",
   "id": "201fe1b3",
   "metadata": {},
   "source": [
    "## Count files"
   ]
  },
  {
   "cell_type": "code",
   "execution_count": 10,
   "id": "ea5ea80f",
   "metadata": {},
   "outputs": [
    {
     "name": "stdout",
     "output_type": "stream",
     "text": [
      "232809\r\n"
     ]
    }
   ],
   "source": [
    "! find {ZARR_DIR2} | wc -l"
   ]
  },
  {
   "cell_type": "code",
   "execution_count": 11,
   "id": "db221cf7",
   "metadata": {},
   "outputs": [
    {
     "name": "stdout",
     "output_type": "stream",
     "text": [
      "8.5G\texome.chr20_all3.vcz\r\n"
     ]
    }
   ],
   "source": [
    "! du -sh {ZARR_DIR2}"
   ]
  },
  {
   "cell_type": "code",
   "execution_count": 12,
   "id": "698de35a",
   "metadata": {},
   "outputs": [
    {
     "name": "stdout",
     "output_type": "stream",
     "text": [
      "91232\r\n"
     ]
    }
   ],
   "source": [
    "! find {ICF_DIR} | wc -l"
   ]
  },
  {
   "cell_type": "code",
   "execution_count": 13,
   "id": "16023b02",
   "metadata": {},
   "outputs": [
    {
     "name": "stdout",
     "output_type": "stream",
     "text": [
      "7.5G\tchr20.icf\r\n"
     ]
    }
   ],
   "source": [
    "! du -sh {ICF_DIR}"
   ]
  },
  {
   "cell_type": "markdown",
   "id": "580b20e6",
   "metadata": {},
   "source": [
    "## Comparison with bcf"
   ]
  },
  {
   "cell_type": "code",
   "execution_count": 2,
   "id": "d6f1c97a",
   "metadata": {},
   "outputs": [
    {
     "name": "stdout",
     "output_type": "stream",
     "text": [
      "8.8G\texome.chr20.bcf\r\n"
     ]
    }
   ],
   "source": [
    "! du -sh {BCF_FILE}"
   ]
  }
 ],
 "metadata": {
  "kernelspec": {
   "display_name": "Python 3",
   "language": "python",
   "name": "python3"
  },
  "language_info": {
   "codemirror_mode": {
    "name": "ipython",
    "version": 3
   },
   "file_extension": ".py",
   "mimetype": "text/x-python",
   "name": "python",
   "nbconvert_exporter": "python",
   "pygments_lexer": "ipython3",
   "version": "3.10.12"
  },
  "toc": {
   "base_numbering": 1,
   "nav_menu": {},
   "number_sections": true,
   "sideBar": true,
   "skip_h1_title": false,
   "title_cell": "Table of Contents",
   "title_sidebar": "Contents",
   "toc_cell": false,
   "toc_position": {},
   "toc_section_display": true,
   "toc_window_display": false
  }
 },
 "nbformat": 4,
 "nbformat_minor": 5
}
